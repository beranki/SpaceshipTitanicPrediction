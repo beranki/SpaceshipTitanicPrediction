{
 "cells": [
  {
   "cell_type": "code",
   "execution_count": 1,
   "id": "f2710908",
   "metadata": {
    "_cell_guid": "b1076dfc-b9ad-4769-8c92-a6c4dae69d19",
    "_uuid": "8f2839f25d086af736a60e9eeb907d3b93b6e0e5",
    "execution": {
     "iopub.execute_input": "2022-12-29T05:43:09.626735Z",
     "iopub.status.busy": "2022-12-29T05:43:09.625308Z",
     "iopub.status.idle": "2022-12-29T05:43:10.797607Z",
     "shell.execute_reply": "2022-12-29T05:43:10.796362Z"
    },
    "papermill": {
     "duration": 1.189505,
     "end_time": "2022-12-29T05:43:10.800614",
     "exception": false,
     "start_time": "2022-12-29T05:43:09.611109",
     "status": "completed"
    },
    "tags": []
   },
   "outputs": [
    {
     "name": "stdout",
     "output_type": "stream",
     "text": [
      "/kaggle/input/spaceship-titanic/sample_submission.csv\n",
      "/kaggle/input/spaceship-titanic/train.csv\n",
      "/kaggle/input/spaceship-titanic/test.csv\n"
     ]
    }
   ],
   "source": [
    "# This Python 3 environment comes with many helpful analytics libraries installed\n",
    "# It is defined by the kaggle/python Docker image: https://github.com/kaggle/docker-python\n",
    "# For example, here's several helpful packages to load\n",
    "\n",
    "import numpy as np # linear algebra\n",
    "import pandas as pd # data processing, CSV file I/O (e.g. pd.read_csv)\n",
    "import matplotlib.pyplot as plt\n",
    "import seaborn as sns\n",
    "\n",
    "# Input data files are available in the read-only \"../input/\" directory\n",
    "# For example, running this (by clicking run or pressing Shift+Enter) will list all files under the input directory\n",
    "\n",
    "import os\n",
    "for dirname, _, filenames in os.walk('/kaggle/input'):\n",
    "    for filename in filenames:\n",
    "        print(os.path.join(dirname, filename))\n",
    "\n",
    "# You can write up to 20GB to the current directory (/kaggle/working/) that gets preserved as output when you create a version using \"Save & Run All\" \n",
    "# You can also write temporary files to /kaggle/temp/, but they won't be saved outside of the current session"
   ]
  },
  {
   "cell_type": "markdown",
   "id": "5629aa20",
   "metadata": {
    "papermill": {
     "duration": 0.008791,
     "end_time": "2022-12-29T05:43:10.819136",
     "exception": false,
     "start_time": "2022-12-29T05:43:10.810345",
     "status": "completed"
    },
    "tags": []
   },
   "source": [
    "# **EDA - exploring and analyzing trends w/in the data**"
   ]
  },
  {
   "cell_type": "code",
   "execution_count": 2,
   "id": "0cb81e63",
   "metadata": {
    "execution": {
     "iopub.execute_input": "2022-12-29T05:43:10.839681Z",
     "iopub.status.busy": "2022-12-29T05:43:10.839154Z",
     "iopub.status.idle": "2022-12-29T05:43:10.953326Z",
     "shell.execute_reply": "2022-12-29T05:43:10.951744Z"
    },
    "papermill": {
     "duration": 0.127356,
     "end_time": "2022-12-29T05:43:10.956171",
     "exception": false,
     "start_time": "2022-12-29T05:43:10.828815",
     "status": "completed"
    },
    "tags": []
   },
   "outputs": [
    {
     "data": {
      "text/html": [
       "<div>\n",
       "<style scoped>\n",
       "    .dataframe tbody tr th:only-of-type {\n",
       "        vertical-align: middle;\n",
       "    }\n",
       "\n",
       "    .dataframe tbody tr th {\n",
       "        vertical-align: top;\n",
       "    }\n",
       "\n",
       "    .dataframe thead th {\n",
       "        text-align: right;\n",
       "    }\n",
       "</style>\n",
       "<table border=\"1\" class=\"dataframe\">\n",
       "  <thead>\n",
       "    <tr style=\"text-align: right;\">\n",
       "      <th></th>\n",
       "      <th>PassengerId</th>\n",
       "      <th>HomePlanet</th>\n",
       "      <th>CryoSleep</th>\n",
       "      <th>Cabin</th>\n",
       "      <th>Destination</th>\n",
       "      <th>Age</th>\n",
       "      <th>VIP</th>\n",
       "      <th>RoomService</th>\n",
       "      <th>FoodCourt</th>\n",
       "      <th>ShoppingMall</th>\n",
       "      <th>Spa</th>\n",
       "      <th>VRDeck</th>\n",
       "      <th>Name</th>\n",
       "      <th>Transported</th>\n",
       "    </tr>\n",
       "  </thead>\n",
       "  <tbody>\n",
       "    <tr>\n",
       "      <th>0</th>\n",
       "      <td>0001_01</td>\n",
       "      <td>Europa</td>\n",
       "      <td>False</td>\n",
       "      <td>B/0/P</td>\n",
       "      <td>TRAPPIST-1e</td>\n",
       "      <td>39.0</td>\n",
       "      <td>False</td>\n",
       "      <td>0.0</td>\n",
       "      <td>0.0</td>\n",
       "      <td>0.0</td>\n",
       "      <td>0.0</td>\n",
       "      <td>0.0</td>\n",
       "      <td>Maham Ofracculy</td>\n",
       "      <td>False</td>\n",
       "    </tr>\n",
       "    <tr>\n",
       "      <th>1</th>\n",
       "      <td>0002_01</td>\n",
       "      <td>Earth</td>\n",
       "      <td>False</td>\n",
       "      <td>F/0/S</td>\n",
       "      <td>TRAPPIST-1e</td>\n",
       "      <td>24.0</td>\n",
       "      <td>False</td>\n",
       "      <td>109.0</td>\n",
       "      <td>9.0</td>\n",
       "      <td>25.0</td>\n",
       "      <td>549.0</td>\n",
       "      <td>44.0</td>\n",
       "      <td>Juanna Vines</td>\n",
       "      <td>True</td>\n",
       "    </tr>\n",
       "    <tr>\n",
       "      <th>2</th>\n",
       "      <td>0003_01</td>\n",
       "      <td>Europa</td>\n",
       "      <td>False</td>\n",
       "      <td>A/0/S</td>\n",
       "      <td>TRAPPIST-1e</td>\n",
       "      <td>58.0</td>\n",
       "      <td>True</td>\n",
       "      <td>43.0</td>\n",
       "      <td>3576.0</td>\n",
       "      <td>0.0</td>\n",
       "      <td>6715.0</td>\n",
       "      <td>49.0</td>\n",
       "      <td>Altark Susent</td>\n",
       "      <td>False</td>\n",
       "    </tr>\n",
       "    <tr>\n",
       "      <th>3</th>\n",
       "      <td>0003_02</td>\n",
       "      <td>Europa</td>\n",
       "      <td>False</td>\n",
       "      <td>A/0/S</td>\n",
       "      <td>TRAPPIST-1e</td>\n",
       "      <td>33.0</td>\n",
       "      <td>False</td>\n",
       "      <td>0.0</td>\n",
       "      <td>1283.0</td>\n",
       "      <td>371.0</td>\n",
       "      <td>3329.0</td>\n",
       "      <td>193.0</td>\n",
       "      <td>Solam Susent</td>\n",
       "      <td>False</td>\n",
       "    </tr>\n",
       "    <tr>\n",
       "      <th>4</th>\n",
       "      <td>0004_01</td>\n",
       "      <td>Earth</td>\n",
       "      <td>False</td>\n",
       "      <td>F/1/S</td>\n",
       "      <td>TRAPPIST-1e</td>\n",
       "      <td>16.0</td>\n",
       "      <td>False</td>\n",
       "      <td>303.0</td>\n",
       "      <td>70.0</td>\n",
       "      <td>151.0</td>\n",
       "      <td>565.0</td>\n",
       "      <td>2.0</td>\n",
       "      <td>Willy Santantines</td>\n",
       "      <td>True</td>\n",
       "    </tr>\n",
       "    <tr>\n",
       "      <th>...</th>\n",
       "      <td>...</td>\n",
       "      <td>...</td>\n",
       "      <td>...</td>\n",
       "      <td>...</td>\n",
       "      <td>...</td>\n",
       "      <td>...</td>\n",
       "      <td>...</td>\n",
       "      <td>...</td>\n",
       "      <td>...</td>\n",
       "      <td>...</td>\n",
       "      <td>...</td>\n",
       "      <td>...</td>\n",
       "      <td>...</td>\n",
       "      <td>...</td>\n",
       "    </tr>\n",
       "    <tr>\n",
       "      <th>8688</th>\n",
       "      <td>9276_01</td>\n",
       "      <td>Europa</td>\n",
       "      <td>False</td>\n",
       "      <td>A/98/P</td>\n",
       "      <td>55 Cancri e</td>\n",
       "      <td>41.0</td>\n",
       "      <td>True</td>\n",
       "      <td>0.0</td>\n",
       "      <td>6819.0</td>\n",
       "      <td>0.0</td>\n",
       "      <td>1643.0</td>\n",
       "      <td>74.0</td>\n",
       "      <td>Gravior Noxnuther</td>\n",
       "      <td>False</td>\n",
       "    </tr>\n",
       "    <tr>\n",
       "      <th>8689</th>\n",
       "      <td>9278_01</td>\n",
       "      <td>Earth</td>\n",
       "      <td>True</td>\n",
       "      <td>G/1499/S</td>\n",
       "      <td>PSO J318.5-22</td>\n",
       "      <td>18.0</td>\n",
       "      <td>False</td>\n",
       "      <td>0.0</td>\n",
       "      <td>0.0</td>\n",
       "      <td>0.0</td>\n",
       "      <td>0.0</td>\n",
       "      <td>0.0</td>\n",
       "      <td>Kurta Mondalley</td>\n",
       "      <td>False</td>\n",
       "    </tr>\n",
       "    <tr>\n",
       "      <th>8690</th>\n",
       "      <td>9279_01</td>\n",
       "      <td>Earth</td>\n",
       "      <td>False</td>\n",
       "      <td>G/1500/S</td>\n",
       "      <td>TRAPPIST-1e</td>\n",
       "      <td>26.0</td>\n",
       "      <td>False</td>\n",
       "      <td>0.0</td>\n",
       "      <td>0.0</td>\n",
       "      <td>1872.0</td>\n",
       "      <td>1.0</td>\n",
       "      <td>0.0</td>\n",
       "      <td>Fayey Connon</td>\n",
       "      <td>True</td>\n",
       "    </tr>\n",
       "    <tr>\n",
       "      <th>8691</th>\n",
       "      <td>9280_01</td>\n",
       "      <td>Europa</td>\n",
       "      <td>False</td>\n",
       "      <td>E/608/S</td>\n",
       "      <td>55 Cancri e</td>\n",
       "      <td>32.0</td>\n",
       "      <td>False</td>\n",
       "      <td>0.0</td>\n",
       "      <td>1049.0</td>\n",
       "      <td>0.0</td>\n",
       "      <td>353.0</td>\n",
       "      <td>3235.0</td>\n",
       "      <td>Celeon Hontichre</td>\n",
       "      <td>False</td>\n",
       "    </tr>\n",
       "    <tr>\n",
       "      <th>8692</th>\n",
       "      <td>9280_02</td>\n",
       "      <td>Europa</td>\n",
       "      <td>False</td>\n",
       "      <td>E/608/S</td>\n",
       "      <td>TRAPPIST-1e</td>\n",
       "      <td>44.0</td>\n",
       "      <td>False</td>\n",
       "      <td>126.0</td>\n",
       "      <td>4688.0</td>\n",
       "      <td>0.0</td>\n",
       "      <td>0.0</td>\n",
       "      <td>12.0</td>\n",
       "      <td>Propsh Hontichre</td>\n",
       "      <td>True</td>\n",
       "    </tr>\n",
       "  </tbody>\n",
       "</table>\n",
       "<p>8693 rows × 14 columns</p>\n",
       "</div>"
      ],
      "text/plain": [
       "     PassengerId HomePlanet CryoSleep     Cabin    Destination   Age    VIP  \\\n",
       "0        0001_01     Europa     False     B/0/P    TRAPPIST-1e  39.0  False   \n",
       "1        0002_01      Earth     False     F/0/S    TRAPPIST-1e  24.0  False   \n",
       "2        0003_01     Europa     False     A/0/S    TRAPPIST-1e  58.0   True   \n",
       "3        0003_02     Europa     False     A/0/S    TRAPPIST-1e  33.0  False   \n",
       "4        0004_01      Earth     False     F/1/S    TRAPPIST-1e  16.0  False   \n",
       "...          ...        ...       ...       ...            ...   ...    ...   \n",
       "8688     9276_01     Europa     False    A/98/P    55 Cancri e  41.0   True   \n",
       "8689     9278_01      Earth      True  G/1499/S  PSO J318.5-22  18.0  False   \n",
       "8690     9279_01      Earth     False  G/1500/S    TRAPPIST-1e  26.0  False   \n",
       "8691     9280_01     Europa     False   E/608/S    55 Cancri e  32.0  False   \n",
       "8692     9280_02     Europa     False   E/608/S    TRAPPIST-1e  44.0  False   \n",
       "\n",
       "      RoomService  FoodCourt  ShoppingMall     Spa  VRDeck               Name  \\\n",
       "0             0.0        0.0           0.0     0.0     0.0    Maham Ofracculy   \n",
       "1           109.0        9.0          25.0   549.0    44.0       Juanna Vines   \n",
       "2            43.0     3576.0           0.0  6715.0    49.0      Altark Susent   \n",
       "3             0.0     1283.0         371.0  3329.0   193.0       Solam Susent   \n",
       "4           303.0       70.0         151.0   565.0     2.0  Willy Santantines   \n",
       "...           ...        ...           ...     ...     ...                ...   \n",
       "8688          0.0     6819.0           0.0  1643.0    74.0  Gravior Noxnuther   \n",
       "8689          0.0        0.0           0.0     0.0     0.0    Kurta Mondalley   \n",
       "8690          0.0        0.0        1872.0     1.0     0.0       Fayey Connon   \n",
       "8691          0.0     1049.0           0.0   353.0  3235.0   Celeon Hontichre   \n",
       "8692        126.0     4688.0           0.0     0.0    12.0   Propsh Hontichre   \n",
       "\n",
       "      Transported  \n",
       "0           False  \n",
       "1            True  \n",
       "2           False  \n",
       "3           False  \n",
       "4            True  \n",
       "...           ...  \n",
       "8688        False  \n",
       "8689        False  \n",
       "8690         True  \n",
       "8691        False  \n",
       "8692         True  \n",
       "\n",
       "[8693 rows x 14 columns]"
      ]
     },
     "execution_count": 2,
     "metadata": {},
     "output_type": "execute_result"
    }
   ],
   "source": [
    "train = pd.read_csv(\"/kaggle/input/spaceship-titanic/train.csv\")\n",
    "train"
   ]
  },
  {
   "cell_type": "code",
   "execution_count": 3,
   "id": "4f9d35c1",
   "metadata": {
    "execution": {
     "iopub.execute_input": "2022-12-29T05:43:10.979567Z",
     "iopub.status.busy": "2022-12-29T05:43:10.979018Z",
     "iopub.status.idle": "2022-12-29T05:43:11.010838Z",
     "shell.execute_reply": "2022-12-29T05:43:11.009576Z"
    },
    "papermill": {
     "duration": 0.047666,
     "end_time": "2022-12-29T05:43:11.013682",
     "exception": false,
     "start_time": "2022-12-29T05:43:10.966016",
     "status": "completed"
    },
    "tags": []
   },
   "outputs": [
    {
     "name": "stdout",
     "output_type": "stream",
     "text": [
      "<class 'pandas.core.frame.DataFrame'>\n",
      "RangeIndex: 8693 entries, 0 to 8692\n",
      "Data columns (total 14 columns):\n",
      " #   Column        Non-Null Count  Dtype  \n",
      "---  ------        --------------  -----  \n",
      " 0   PassengerId   8693 non-null   object \n",
      " 1   HomePlanet    8492 non-null   object \n",
      " 2   CryoSleep     8476 non-null   object \n",
      " 3   Cabin         8494 non-null   object \n",
      " 4   Destination   8511 non-null   object \n",
      " 5   Age           8514 non-null   float64\n",
      " 6   VIP           8490 non-null   object \n",
      " 7   RoomService   8512 non-null   float64\n",
      " 8   FoodCourt     8510 non-null   float64\n",
      " 9   ShoppingMall  8485 non-null   float64\n",
      " 10  Spa           8510 non-null   float64\n",
      " 11  VRDeck        8505 non-null   float64\n",
      " 12  Name          8493 non-null   object \n",
      " 13  Transported   8693 non-null   bool   \n",
      "dtypes: bool(1), float64(6), object(7)\n",
      "memory usage: 891.5+ KB\n"
     ]
    }
   ],
   "source": [
    "train.info()"
   ]
  },
  {
   "cell_type": "code",
   "execution_count": 4,
   "id": "18bd7a2e",
   "metadata": {
    "execution": {
     "iopub.execute_input": "2022-12-29T05:43:11.039501Z",
     "iopub.status.busy": "2022-12-29T05:43:11.039085Z",
     "iopub.status.idle": "2022-12-29T05:43:11.541650Z",
     "shell.execute_reply": "2022-12-29T05:43:11.540264Z"
    },
    "papermill": {
     "duration": 0.518009,
     "end_time": "2022-12-29T05:43:11.544813",
     "exception": false,
     "start_time": "2022-12-29T05:43:11.026804",
     "status": "completed"
    },
    "tags": []
   },
   "outputs": [
    {
     "data": {
      "image/png": "[encoded data removed]",
      "text/plain": [
       "<Figure size 720x576 with 2 Axes>"
      ]
     },
     "metadata": {
      "needs_background": "light"
     },
     "output_type": "display_data"
    }
   ],
   "source": [
    "#find correlation between parts of the dataset\n",
    "plt.figure(figsize=(10, 8))\n",
    "plt.title(\"Correlation between elements\", size = 5)\n",
    "sns.heatmap(train.corr(), annot=True)\n",
    "plt.show()"
   ]
  },
  {
   "cell_type": "code",
   "execution_count": 5,
   "id": "f00783c6",
   "metadata": {
    "execution": {
     "iopub.execute_input": "2022-12-29T05:43:11.569962Z",
     "iopub.status.busy": "2022-12-29T05:43:11.569493Z",
     "iopub.status.idle": "2022-12-29T05:43:11.587765Z",
     "shell.execute_reply": "2022-12-29T05:43:11.585306Z"
    },
    "papermill": {
     "duration": 0.034374,
     "end_time": "2022-12-29T05:43:11.591033",
     "exception": false,
     "start_time": "2022-12-29T05:43:11.556659",
     "status": "completed"
    },
    "tags": []
   },
   "outputs": [
    {
     "name": "stderr",
     "output_type": "stream",
     "text": [
      "/opt/conda/lib/python3.7/site-packages/ipykernel_launcher.py:1: FutureWarning: Dropping of nuisance columns in DataFrame reductions (with 'numeric_only=None') is deprecated; in a future version this will raise TypeError.  Select only valid columns before calling the reduction.\n",
      "  \"\"\"Entry point for launching an IPython kernel.\n"
     ]
    },
    {
     "data": {
      "text/plain": [
       "PassengerId     9280_02\n",
       "CryoSleep          True\n",
       "Age                79.0\n",
       "VIP                True\n",
       "RoomService     14327.0\n",
       "FoodCourt       29813.0\n",
       "ShoppingMall    23492.0\n",
       "Spa             22408.0\n",
       "VRDeck          24133.0\n",
       "Transported        True\n",
       "dtype: object"
      ]
     },
     "execution_count": 5,
     "metadata": {},
     "output_type": "execute_result"
    }
   ],
   "source": [
    "train.max()"
   ]
  },
  {
   "cell_type": "code",
   "execution_count": 6,
   "id": "623ebed4",
   "metadata": {
    "execution": {
     "iopub.execute_input": "2022-12-29T05:43:11.615734Z",
     "iopub.status.busy": "2022-12-29T05:43:11.615328Z",
     "iopub.status.idle": "2022-12-29T05:43:11.633577Z",
     "shell.execute_reply": "2022-12-29T05:43:11.632355Z"
    },
    "papermill": {
     "duration": 0.034154,
     "end_time": "2022-12-29T05:43:11.636633",
     "exception": false,
     "start_time": "2022-12-29T05:43:11.602479",
     "status": "completed"
    },
    "tags": []
   },
   "outputs": [
    {
     "name": "stderr",
     "output_type": "stream",
     "text": [
      "/opt/conda/lib/python3.7/site-packages/ipykernel_launcher.py:1: FutureWarning: Dropping of nuisance columns in DataFrame reductions (with 'numeric_only=None') is deprecated; in a future version this will raise TypeError.  Select only valid columns before calling the reduction.\n",
      "  \"\"\"Entry point for launching an IPython kernel.\n"
     ]
    },
    {
     "data": {
      "text/plain": [
       "PassengerId     0001_01\n",
       "CryoSleep         False\n",
       "Age                 0.0\n",
       "VIP               False\n",
       "RoomService         0.0\n",
       "FoodCourt           0.0\n",
       "ShoppingMall        0.0\n",
       "Spa                 0.0\n",
       "VRDeck              0.0\n",
       "Transported       False\n",
       "dtype: object"
      ]
     },
     "execution_count": 6,
     "metadata": {},
     "output_type": "execute_result"
    }
   ],
   "source": [
    "train.min()"
   ]
  },
  {
   "cell_type": "markdown",
   "id": "46b64b0b",
   "metadata": {
    "papermill": {
     "duration": 0.011139,
     "end_time": "2022-12-29T05:43:11.659089",
     "exception": false,
     "start_time": "2022-12-29T05:43:11.647950",
     "status": "completed"
    },
    "tags": []
   },
   "source": [
    "The disparity in the maximum and minimum values calls for some form of "
   ]
  },
  {
   "cell_type": "markdown",
   "id": "03be0135",
   "metadata": {
    "papermill": {
     "duration": 0.010602,
     "end_time": "2022-12-29T05:43:11.681107",
     "exception": false,
     "start_time": "2022-12-29T05:43:11.670505",
     "status": "completed"
    },
    "tags": []
   },
   "source": [
    "# **PREPROCESSING THE DATA**"
   ]
  },
  {
   "cell_type": "code",
   "execution_count": 7,
   "id": "b9fcd415",
   "metadata": {
    "execution": {
     "iopub.execute_input": "2022-12-29T05:43:11.706493Z",
     "iopub.status.busy": "2022-12-29T05:43:11.704767Z",
     "iopub.status.idle": "2022-12-29T05:43:11.719872Z",
     "shell.execute_reply": "2022-12-29T05:43:11.718811Z"
    },
    "papermill": {
     "duration": 0.030376,
     "end_time": "2022-12-29T05:43:11.722422",
     "exception": false,
     "start_time": "2022-12-29T05:43:11.692046",
     "status": "completed"
    },
    "tags": []
   },
   "outputs": [
    {
     "data": {
      "text/plain": [
       "PassengerId       0\n",
       "HomePlanet      201\n",
       "CryoSleep       217\n",
       "Cabin           199\n",
       "Destination     182\n",
       "Age             179\n",
       "VIP             203\n",
       "RoomService     181\n",
       "FoodCourt       183\n",
       "ShoppingMall    208\n",
       "Spa             183\n",
       "VRDeck          188\n",
       "Name            200\n",
       "Transported       0\n",
       "dtype: int64"
      ]
     },
     "execution_count": 7,
     "metadata": {},
     "output_type": "execute_result"
    }
   ],
   "source": [
    "train.isna().sum()"
   ]
  },
  {
   "cell_type": "code",
   "execution_count": 8,
   "id": "da75dc86",
   "metadata": {
    "execution": {
     "iopub.execute_input": "2022-12-29T05:43:11.747736Z",
     "iopub.status.busy": "2022-12-29T05:43:11.746650Z",
     "iopub.status.idle": "2022-12-29T05:43:11.757502Z",
     "shell.execute_reply": "2022-12-29T05:43:11.755640Z"
    },
    "papermill": {
     "duration": 0.026728,
     "end_time": "2022-12-29T05:43:11.760368",
     "exception": false,
     "start_time": "2022-12-29T05:43:11.733640",
     "status": "completed"
    },
    "tags": []
   },
   "outputs": [
    {
     "name": "stdout",
     "output_type": "stream",
     "text": [
      "['Age', 'RoomService', 'FoodCourt', 'ShoppingMall', 'Spa', 'VRDeck']\n"
     ]
    }
   ],
   "source": [
    "numbers = train._get_numeric_data()\n",
    "nancols = list(numbers.columns[numbers.isnull().any()])\n",
    "\n",
    "print(nancols)"
   ]
  },
  {
   "cell_type": "code",
   "execution_count": 9,
   "id": "1121ce99",
   "metadata": {
    "execution": {
     "iopub.execute_input": "2022-12-29T05:43:11.785153Z",
     "iopub.status.busy": "2022-12-29T05:43:11.784686Z",
     "iopub.status.idle": "2022-12-29T05:43:11.814161Z",
     "shell.execute_reply": "2022-12-29T05:43:11.811981Z"
    },
    "papermill": {
     "duration": 0.04606,
     "end_time": "2022-12-29T05:43:11.818079",
     "exception": false,
     "start_time": "2022-12-29T05:43:11.772019",
     "status": "completed"
    },
    "tags": []
   },
   "outputs": [
    {
     "name": "stdout",
     "output_type": "stream",
     "text": [
      "27.0\n",
      "0.0\n",
      "0.0\n",
      "0.0\n",
      "0.0\n",
      "0.0\n"
     ]
    }
   ],
   "source": [
    "for index in nancols:\n",
    "    print(train[index].median())\n",
    "    train[index] = train[index].fillna(train[index].median(), inplace=False)\n",
    "\n",
    "train[\"HomePlanet\"].fillna(train[\"HomePlanet\"].mode().values[0], inplace=True)\n",
    "train[\"CryoSleep\"].fillna(train[\"CryoSleep\"].mode().values[0], inplace=True)\n",
    "train[\"Destination\"].fillna(train[\"Destination\"].mode().values[0], inplace=True)\n",
    "train[\"VIP\"].fillna(train[\"VIP\"].mode().values[0], inplace=True)"
   ]
  },
  {
   "cell_type": "code",
   "execution_count": 10,
   "id": "c222a569",
   "metadata": {
    "execution": {
     "iopub.execute_input": "2022-12-29T05:43:11.843378Z",
     "iopub.status.busy": "2022-12-29T05:43:11.842809Z",
     "iopub.status.idle": "2022-12-29T05:43:11.860719Z",
     "shell.execute_reply": "2022-12-29T05:43:11.859311Z"
    },
    "papermill": {
     "duration": 0.033555,
     "end_time": "2022-12-29T05:43:11.863388",
     "exception": false,
     "start_time": "2022-12-29T05:43:11.829833",
     "status": "completed"
    },
    "tags": []
   },
   "outputs": [
    {
     "data": {
      "text/plain": [
       "PassengerId     0\n",
       "HomePlanet      0\n",
       "CryoSleep       0\n",
       "Destination     0\n",
       "Age             0\n",
       "VIP             0\n",
       "RoomService     0\n",
       "FoodCourt       0\n",
       "ShoppingMall    0\n",
       "Spa             0\n",
       "VRDeck          0\n",
       "Transported     0\n",
       "dtype: int64"
      ]
     },
     "execution_count": 10,
     "metadata": {},
     "output_type": "execute_result"
    }
   ],
   "source": [
    "train = train.drop(axis = 1, labels=[\"Cabin\", \"Name\"])\n",
    "train.isna().sum()"
   ]
  },
  {
   "cell_type": "code",
   "execution_count": 11,
   "id": "bd5e3f48",
   "metadata": {
    "execution": {
     "iopub.execute_input": "2022-12-29T05:43:11.889526Z",
     "iopub.status.busy": "2022-12-29T05:43:11.887709Z",
     "iopub.status.idle": "2022-12-29T05:43:11.897677Z",
     "shell.execute_reply": "2022-12-29T05:43:11.896309Z"
    },
    "papermill": {
     "duration": 0.025673,
     "end_time": "2022-12-29T05:43:11.900226",
     "exception": false,
     "start_time": "2022-12-29T05:43:11.874553",
     "status": "completed"
    },
    "tags": []
   },
   "outputs": [],
   "source": [
    "y = train[\"Transported\"]\n",
    "X = train.drop(\"Transported\", axis = 1)"
   ]
  },
  {
   "cell_type": "code",
   "execution_count": 12,
   "id": "1f20dd69",
   "metadata": {
    "execution": {
     "iopub.execute_input": "2022-12-29T05:43:11.925046Z",
     "iopub.status.busy": "2022-12-29T05:43:11.924491Z",
     "iopub.status.idle": "2022-12-29T05:43:12.124606Z",
     "shell.execute_reply": "2022-12-29T05:43:12.123523Z"
    },
    "papermill": {
     "duration": 0.215496,
     "end_time": "2022-12-29T05:43:12.127066",
     "exception": false,
     "start_time": "2022-12-29T05:43:11.911570",
     "status": "completed"
    },
    "tags": []
   },
   "outputs": [
    {
     "data": {
      "text/html": [
       "<div>\n",
       "<style scoped>\n",
       "    .dataframe tbody tr th:only-of-type {\n",
       "        vertical-align: middle;\n",
       "    }\n",
       "\n",
       "    .dataframe tbody tr th {\n",
       "        vertical-align: top;\n",
       "    }\n",
       "\n",
       "    .dataframe thead th {\n",
       "        text-align: right;\n",
       "    }\n",
       "</style>\n",
       "<table border=\"1\" class=\"dataframe\">\n",
       "  <thead>\n",
       "    <tr style=\"text-align: right;\">\n",
       "      <th></th>\n",
       "      <th>PassengerId</th>\n",
       "      <th>Age</th>\n",
       "      <th>RoomService</th>\n",
       "      <th>FoodCourt</th>\n",
       "      <th>ShoppingMall</th>\n",
       "      <th>Spa</th>\n",
       "      <th>VRDeck</th>\n",
       "      <th>HomePlanet_Earth</th>\n",
       "      <th>HomePlanet_Europa</th>\n",
       "      <th>HomePlanet_Mars</th>\n",
       "      <th>CryoSleep_False</th>\n",
       "      <th>CryoSleep_True</th>\n",
       "      <th>Destination_55 Cancri e</th>\n",
       "      <th>Destination_PSO J318.5-22</th>\n",
       "      <th>Destination_TRAPPIST-1e</th>\n",
       "      <th>VIP_False</th>\n",
       "      <th>VIP_True</th>\n",
       "    </tr>\n",
       "  </thead>\n",
       "  <tbody>\n",
       "    <tr>\n",
       "      <th>0</th>\n",
       "      <td>0001_01</td>\n",
       "      <td>39.0</td>\n",
       "      <td>0.0</td>\n",
       "      <td>0.0</td>\n",
       "      <td>0.0</td>\n",
       "      <td>0.0</td>\n",
       "      <td>0.0</td>\n",
       "      <td>0.0</td>\n",
       "      <td>1.0</td>\n",
       "      <td>0.0</td>\n",
       "      <td>1.0</td>\n",
       "      <td>0.0</td>\n",
       "      <td>0.0</td>\n",
       "      <td>0.0</td>\n",
       "      <td>1.0</td>\n",
       "      <td>1.0</td>\n",
       "      <td>0.0</td>\n",
       "    </tr>\n",
       "    <tr>\n",
       "      <th>1</th>\n",
       "      <td>0002_01</td>\n",
       "      <td>24.0</td>\n",
       "      <td>109.0</td>\n",
       "      <td>9.0</td>\n",
       "      <td>25.0</td>\n",
       "      <td>549.0</td>\n",
       "      <td>44.0</td>\n",
       "      <td>1.0</td>\n",
       "      <td>0.0</td>\n",
       "      <td>0.0</td>\n",
       "      <td>1.0</td>\n",
       "      <td>0.0</td>\n",
       "      <td>0.0</td>\n",
       "      <td>0.0</td>\n",
       "      <td>1.0</td>\n",
       "      <td>1.0</td>\n",
       "      <td>0.0</td>\n",
       "    </tr>\n",
       "    <tr>\n",
       "      <th>2</th>\n",
       "      <td>0003_01</td>\n",
       "      <td>58.0</td>\n",
       "      <td>43.0</td>\n",
       "      <td>3576.0</td>\n",
       "      <td>0.0</td>\n",
       "      <td>6715.0</td>\n",
       "      <td>49.0</td>\n",
       "      <td>0.0</td>\n",
       "      <td>1.0</td>\n",
       "      <td>0.0</td>\n",
       "      <td>1.0</td>\n",
       "      <td>0.0</td>\n",
       "      <td>0.0</td>\n",
       "      <td>0.0</td>\n",
       "      <td>1.0</td>\n",
       "      <td>0.0</td>\n",
       "      <td>1.0</td>\n",
       "    </tr>\n",
       "    <tr>\n",
       "      <th>3</th>\n",
       "      <td>0003_02</td>\n",
       "      <td>33.0</td>\n",
       "      <td>0.0</td>\n",
       "      <td>1283.0</td>\n",
       "      <td>371.0</td>\n",
       "      <td>3329.0</td>\n",
       "      <td>193.0</td>\n",
       "      <td>0.0</td>\n",
       "      <td>1.0</td>\n",
       "      <td>0.0</td>\n",
       "      <td>1.0</td>\n",
       "      <td>0.0</td>\n",
       "      <td>0.0</td>\n",
       "      <td>0.0</td>\n",
       "      <td>1.0</td>\n",
       "      <td>1.0</td>\n",
       "      <td>0.0</td>\n",
       "    </tr>\n",
       "    <tr>\n",
       "      <th>4</th>\n",
       "      <td>0004_01</td>\n",
       "      <td>16.0</td>\n",
       "      <td>303.0</td>\n",
       "      <td>70.0</td>\n",
       "      <td>151.0</td>\n",
       "      <td>565.0</td>\n",
       "      <td>2.0</td>\n",
       "      <td>1.0</td>\n",
       "      <td>0.0</td>\n",
       "      <td>0.0</td>\n",
       "      <td>1.0</td>\n",
       "      <td>0.0</td>\n",
       "      <td>0.0</td>\n",
       "      <td>0.0</td>\n",
       "      <td>1.0</td>\n",
       "      <td>1.0</td>\n",
       "      <td>0.0</td>\n",
       "    </tr>\n",
       "    <tr>\n",
       "      <th>...</th>\n",
       "      <td>...</td>\n",
       "      <td>...</td>\n",
       "      <td>...</td>\n",
       "      <td>...</td>\n",
       "      <td>...</td>\n",
       "      <td>...</td>\n",
       "      <td>...</td>\n",
       "      <td>...</td>\n",
       "      <td>...</td>\n",
       "      <td>...</td>\n",
       "      <td>...</td>\n",
       "      <td>...</td>\n",
       "      <td>...</td>\n",
       "      <td>...</td>\n",
       "      <td>...</td>\n",
       "      <td>...</td>\n",
       "      <td>...</td>\n",
       "    </tr>\n",
       "    <tr>\n",
       "      <th>8688</th>\n",
       "      <td>9276_01</td>\n",
       "      <td>41.0</td>\n",
       "      <td>0.0</td>\n",
       "      <td>6819.0</td>\n",
       "      <td>0.0</td>\n",
       "      <td>1643.0</td>\n",
       "      <td>74.0</td>\n",
       "      <td>0.0</td>\n",
       "      <td>1.0</td>\n",
       "      <td>0.0</td>\n",
       "      <td>1.0</td>\n",
       "      <td>0.0</td>\n",
       "      <td>1.0</td>\n",
       "      <td>0.0</td>\n",
       "      <td>0.0</td>\n",
       "      <td>0.0</td>\n",
       "      <td>1.0</td>\n",
       "    </tr>\n",
       "    <tr>\n",
       "      <th>8689</th>\n",
       "      <td>9278_01</td>\n",
       "      <td>18.0</td>\n",
       "      <td>0.0</td>\n",
       "      <td>0.0</td>\n",
       "      <td>0.0</td>\n",
       "      <td>0.0</td>\n",
       "      <td>0.0</td>\n",
       "      <td>1.0</td>\n",
       "      <td>0.0</td>\n",
       "      <td>0.0</td>\n",
       "      <td>0.0</td>\n",
       "      <td>1.0</td>\n",
       "      <td>0.0</td>\n",
       "      <td>1.0</td>\n",
       "      <td>0.0</td>\n",
       "      <td>1.0</td>\n",
       "      <td>0.0</td>\n",
       "    </tr>\n",
       "    <tr>\n",
       "      <th>8690</th>\n",
       "      <td>9279_01</td>\n",
       "      <td>26.0</td>\n",
       "      <td>0.0</td>\n",
       "      <td>0.0</td>\n",
       "      <td>1872.0</td>\n",
       "      <td>1.0</td>\n",
       "      <td>0.0</td>\n",
       "      <td>1.0</td>\n",
       "      <td>0.0</td>\n",
       "      <td>0.0</td>\n",
       "      <td>1.0</td>\n",
       "      <td>0.0</td>\n",
       "      <td>0.0</td>\n",
       "      <td>0.0</td>\n",
       "      <td>1.0</td>\n",
       "      <td>1.0</td>\n",
       "      <td>0.0</td>\n",
       "    </tr>\n",
       "    <tr>\n",
       "      <th>8691</th>\n",
       "      <td>9280_01</td>\n",
       "      <td>32.0</td>\n",
       "      <td>0.0</td>\n",
       "      <td>1049.0</td>\n",
       "      <td>0.0</td>\n",
       "      <td>353.0</td>\n",
       "      <td>3235.0</td>\n",
       "      <td>0.0</td>\n",
       "      <td>1.0</td>\n",
       "      <td>0.0</td>\n",
       "      <td>1.0</td>\n",
       "      <td>0.0</td>\n",
       "      <td>1.0</td>\n",
       "      <td>0.0</td>\n",
       "      <td>0.0</td>\n",
       "      <td>1.0</td>\n",
       "      <td>0.0</td>\n",
       "    </tr>\n",
       "    <tr>\n",
       "      <th>8692</th>\n",
       "      <td>9280_02</td>\n",
       "      <td>44.0</td>\n",
       "      <td>126.0</td>\n",
       "      <td>4688.0</td>\n",
       "      <td>0.0</td>\n",
       "      <td>0.0</td>\n",
       "      <td>12.0</td>\n",
       "      <td>0.0</td>\n",
       "      <td>1.0</td>\n",
       "      <td>0.0</td>\n",
       "      <td>1.0</td>\n",
       "      <td>0.0</td>\n",
       "      <td>0.0</td>\n",
       "      <td>0.0</td>\n",
       "      <td>1.0</td>\n",
       "      <td>1.0</td>\n",
       "      <td>0.0</td>\n",
       "    </tr>\n",
       "  </tbody>\n",
       "</table>\n",
       "<p>8693 rows × 17 columns</p>\n",
       "</div>"
      ],
      "text/plain": [
       "     PassengerId   Age  RoomService  FoodCourt  ShoppingMall     Spa  VRDeck  \\\n",
       "0        0001_01  39.0          0.0        0.0           0.0     0.0     0.0   \n",
       "1        0002_01  24.0        109.0        9.0          25.0   549.0    44.0   \n",
       "2        0003_01  58.0         43.0     3576.0           0.0  6715.0    49.0   \n",
       "3        0003_02  33.0          0.0     1283.0         371.0  3329.0   193.0   \n",
       "4        0004_01  16.0        303.0       70.0         151.0   565.0     2.0   \n",
       "...          ...   ...          ...        ...           ...     ...     ...   \n",
       "8688     9276_01  41.0          0.0     6819.0           0.0  1643.0    74.0   \n",
       "8689     9278_01  18.0          0.0        0.0           0.0     0.0     0.0   \n",
       "8690     9279_01  26.0          0.0        0.0        1872.0     1.0     0.0   \n",
       "8691     9280_01  32.0          0.0     1049.0           0.0   353.0  3235.0   \n",
       "8692     9280_02  44.0        126.0     4688.0           0.0     0.0    12.0   \n",
       "\n",
       "      HomePlanet_Earth  HomePlanet_Europa  HomePlanet_Mars  CryoSleep_False  \\\n",
       "0                  0.0                1.0              0.0              1.0   \n",
       "1                  1.0                0.0              0.0              1.0   \n",
       "2                  0.0                1.0              0.0              1.0   \n",
       "3                  0.0                1.0              0.0              1.0   \n",
       "4                  1.0                0.0              0.0              1.0   \n",
       "...                ...                ...              ...              ...   \n",
       "8688               0.0                1.0              0.0              1.0   \n",
       "8689               1.0                0.0              0.0              0.0   \n",
       "8690               1.0                0.0              0.0              1.0   \n",
       "8691               0.0                1.0              0.0              1.0   \n",
       "8692               0.0                1.0              0.0              1.0   \n",
       "\n",
       "      CryoSleep_True  Destination_55 Cancri e  Destination_PSO J318.5-22  \\\n",
       "0                0.0                      0.0                        0.0   \n",
       "1                0.0                      0.0                        0.0   \n",
       "2                0.0                      0.0                        0.0   \n",
       "3                0.0                      0.0                        0.0   \n",
       "4                0.0                      0.0                        0.0   \n",
       "...              ...                      ...                        ...   \n",
       "8688             0.0                      1.0                        0.0   \n",
       "8689             1.0                      0.0                        1.0   \n",
       "8690             0.0                      0.0                        0.0   \n",
       "8691             0.0                      1.0                        0.0   \n",
       "8692             0.0                      0.0                        0.0   \n",
       "\n",
       "      Destination_TRAPPIST-1e  VIP_False  VIP_True  \n",
       "0                         1.0        1.0       0.0  \n",
       "1                         1.0        1.0       0.0  \n",
       "2                         1.0        0.0       1.0  \n",
       "3                         1.0        1.0       0.0  \n",
       "4                         1.0        1.0       0.0  \n",
       "...                       ...        ...       ...  \n",
       "8688                      0.0        0.0       1.0  \n",
       "8689                      0.0        1.0       0.0  \n",
       "8690                      1.0        1.0       0.0  \n",
       "8691                      0.0        1.0       0.0  \n",
       "8692                      1.0        1.0       0.0  \n",
       "\n",
       "[8693 rows x 17 columns]"
      ]
     },
     "execution_count": 12,
     "metadata": {},
     "output_type": "execute_result"
    }
   ],
   "source": [
    "from sklearn.preprocessing import OneHotEncoder\n",
    "ohe = OneHotEncoder(handle_unknown=\"ignore\")\n",
    "encoded_cols = ohe.fit_transform(X[[\"HomePlanet\",\"CryoSleep\",\"Destination\",\"VIP\"]])\n",
    "encoded_df = pd.DataFrame(encoded_cols.toarray(), columns=ohe.get_feature_names_out())\n",
    "X = X.drop(columns=[\"HomePlanet\", 'CryoSleep', \"Destination\", \"VIP\"], axis=1)\n",
    "pd.concat([X, encoded_df], axis=1)"
   ]
  },
  {
   "cell_type": "code",
   "execution_count": 13,
   "id": "045ec34e",
   "metadata": {
    "execution": {
     "iopub.execute_input": "2022-12-29T05:43:12.152965Z",
     "iopub.status.busy": "2022-12-29T05:43:12.152417Z",
     "iopub.status.idle": "2022-12-29T05:43:12.176568Z",
     "shell.execute_reply": "2022-12-29T05:43:12.171649Z"
    },
    "papermill": {
     "duration": 0.04168,
     "end_time": "2022-12-29T05:43:12.180672",
     "exception": false,
     "start_time": "2022-12-29T05:43:12.138992",
     "status": "completed"
    },
    "tags": []
   },
   "outputs": [
    {
     "data": {
      "text/plain": [
       "PassengerId     9280_02\n",
       "Age                79.0\n",
       "RoomService     14327.0\n",
       "FoodCourt       29813.0\n",
       "ShoppingMall    23492.0\n",
       "Spa             22408.0\n",
       "VRDeck          24133.0\n",
       "dtype: object"
      ]
     },
     "execution_count": 13,
     "metadata": {},
     "output_type": "execute_result"
    }
   ],
   "source": [
    "X.max()"
   ]
  },
  {
   "cell_type": "code",
   "execution_count": 14,
   "id": "03a73f26",
   "metadata": {
    "execution": {
     "iopub.execute_input": "2022-12-29T05:43:12.213949Z",
     "iopub.status.busy": "2022-12-29T05:43:12.213420Z",
     "iopub.status.idle": "2022-12-29T05:43:12.229149Z",
     "shell.execute_reply": "2022-12-29T05:43:12.226949Z"
    },
    "papermill": {
     "duration": 0.035405,
     "end_time": "2022-12-29T05:43:12.233650",
     "exception": false,
     "start_time": "2022-12-29T05:43:12.198245",
     "status": "completed"
    },
    "tags": []
   },
   "outputs": [
    {
     "data": {
      "text/plain": [
       "PassengerId     0001_01\n",
       "Age                 0.0\n",
       "RoomService         0.0\n",
       "FoodCourt           0.0\n",
       "ShoppingMall        0.0\n",
       "Spa                 0.0\n",
       "VRDeck              0.0\n",
       "dtype: object"
      ]
     },
     "execution_count": 14,
     "metadata": {},
     "output_type": "execute_result"
    }
   ],
   "source": [
    "X.min()"
   ]
  },
  {
   "cell_type": "markdown",
   "id": "b0fda7a1",
   "metadata": {
    "papermill": {
     "duration": 0.012659,
     "end_time": "2022-12-29T05:43:12.260833",
     "exception": false,
     "start_time": "2022-12-29T05:43:12.248174",
     "status": "completed"
    },
    "tags": []
   },
   "source": [
    "The disparity in the values shows us the need for some sort of standardization/normalization. <br>\n",
    "Let's use graphical normality testing to determine that."
   ]
  },
  {
   "cell_type": "code",
   "execution_count": 15,
   "id": "1322628e",
   "metadata": {
    "execution": {
     "iopub.execute_input": "2022-12-29T05:43:12.294072Z",
     "iopub.status.busy": "2022-12-29T05:43:12.293580Z",
     "iopub.status.idle": "2022-12-29T05:43:12.459634Z",
     "shell.execute_reply": "2022-12-29T05:43:12.458241Z"
    },
    "papermill": {
     "duration": 0.186801,
     "end_time": "2022-12-29T05:43:12.463282",
     "exception": false,
     "start_time": "2022-12-29T05:43:12.276481",
     "status": "completed"
    },
    "tags": []
   },
   "outputs": [
    {
     "data": {
      "image/png": "[encoded data removed]",
      "text/plain": [
       "<Figure size 432x288 with 1 Axes>"
      ]
     },
     "metadata": {
      "needs_background": "light"
     },
     "output_type": "display_data"
    }
   ],
   "source": [
    "plt.hist(X[\"Age\"])\n",
    "plt.show()"
   ]
  },
  {
   "cell_type": "code",
   "execution_count": 16,
   "id": "1b588cfd",
   "metadata": {
    "execution": {
     "iopub.execute_input": "2022-12-29T05:43:12.490680Z",
     "iopub.status.busy": "2022-12-29T05:43:12.490258Z",
     "iopub.status.idle": "2022-12-29T05:43:12.910967Z",
     "shell.execute_reply": "2022-12-29T05:43:12.909689Z"
    },
    "papermill": {
     "duration": 0.438226,
     "end_time": "2022-12-29T05:43:12.914382",
     "exception": false,
     "start_time": "2022-12-29T05:43:12.476156",
     "status": "completed"
    },
    "tags": []
   },
   "outputs": [
    {
     "data": {
      "image/png": "[encoded data removed]",
      "text/plain": [
       "<Figure size 432x288 with 1 Axes>"
      ]
     },
     "execution_count": 16,
     "metadata": {},
     "output_type": "execute_result"
    },
    {
     "data": {
      "image/png": "[encoded data removed]",
      "text/plain": [
       "<Figure size 432x288 with 1 Axes>"
      ]
     },
     "metadata": {
      "needs_background": "light"
     },
     "output_type": "display_data"
    }
   ],
   "source": [
    "from statsmodels.graphics.gofplots import qqplot\n",
    "qqplot(X[\"Age\"], line = 's')"
   ]
  },
  {
   "cell_type": "code",
   "execution_count": 17,
   "id": "528cb8dc",
   "metadata": {
    "execution": {
     "iopub.execute_input": "2022-12-29T05:43:12.945076Z",
     "iopub.status.busy": "2022-12-29T05:43:12.944632Z",
     "iopub.status.idle": "2022-12-29T05:43:13.141726Z",
     "shell.execute_reply": "2022-12-29T05:43:13.140422Z"
    },
    "papermill": {
     "duration": 0.215253,
     "end_time": "2022-12-29T05:43:13.144469",
     "exception": false,
     "start_time": "2022-12-29T05:43:12.929216",
     "status": "completed"
    },
    "tags": []
   },
   "outputs": [
    {
     "data": {
      "text/plain": [
       "(array([8.337e+03, 2.540e+02, 6.500e+01, 1.700e+01, 9.000e+00, 9.000e+00,\n",
       "        1.000e+00, 0.000e+00, 0.000e+00, 1.000e+00]),\n",
       " array([    0. ,  1432.7,  2865.4,  4298.1,  5730.8,  7163.5,  8596.2,\n",
       "        10028.9, 11461.6, 12894.3, 14327. ]),\n",
       " <BarContainer object of 10 artists>)"
      ]
     },
     "execution_count": 17,
     "metadata": {},
     "output_type": "execute_result"
    },
    {
     "data": {
      "image/png": "[encoded data removed]",
      "text/plain": [
       "<Figure size 432x288 with 1 Axes>"
      ]
     },
     "metadata": {
      "needs_background": "light"
     },
     "output_type": "display_data"
    }
   ],
   "source": [
    "plt.hist(X[\"RoomService\"])"
   ]
  },
  {
   "cell_type": "code",
   "execution_count": 18,
   "id": "c06f61fa",
   "metadata": {
    "execution": {
     "iopub.execute_input": "2022-12-29T05:43:13.174504Z",
     "iopub.status.busy": "2022-12-29T05:43:13.174067Z",
     "iopub.status.idle": "2022-12-29T05:43:13.354009Z",
     "shell.execute_reply": "2022-12-29T05:43:13.352768Z"
    },
    "papermill": {
     "duration": 0.199115,
     "end_time": "2022-12-29T05:43:13.357463",
     "exception": false,
     "start_time": "2022-12-29T05:43:13.158348",
     "status": "completed"
    },
    "tags": []
   },
   "outputs": [
    {
     "data": {
      "text/plain": [
       "(array([8.44e+03, 1.36e+02, 6.00e+01, 2.60e+01, 1.80e+01, 7.00e+00,\n",
       "        2.00e+00, 2.00e+00, 1.00e+00, 1.00e+00]),\n",
       " array([    0. ,  2413.3,  4826.6,  7239.9,  9653.2, 12066.5, 14479.8,\n",
       "        16893.1, 19306.4, 21719.7, 24133. ]),\n",
       " <BarContainer object of 10 artists>)"
      ]
     },
     "execution_count": 18,
     "metadata": {},
     "output_type": "execute_result"
    },
    {
     "data": {
      "image/png": "[encoded data removed]",
      "text/plain": [
       "<Figure size 432x288 with 1 Axes>"
      ]
     },
     "metadata": {
      "needs_background": "light"
     },
     "output_type": "display_data"
    }
   ],
   "source": [
    "plt.hist(X[\"VRDeck\"])"
   ]
  },
  {
   "cell_type": "code",
   "execution_count": 19,
   "id": "d98be2cb",
   "metadata": {
    "execution": {
     "iopub.execute_input": "2022-12-29T05:43:13.392740Z",
     "iopub.status.busy": "2022-12-29T05:43:13.392117Z",
     "iopub.status.idle": "2022-12-29T05:43:13.593656Z",
     "shell.execute_reply": "2022-12-29T05:43:13.592244Z"
    },
    "papermill": {
     "duration": 0.223742,
     "end_time": "2022-12-29T05:43:13.597030",
     "exception": false,
     "start_time": "2022-12-29T05:43:13.373288",
     "status": "completed"
    },
    "tags": []
   },
   "outputs": [
    {
     "data": {
      "text/plain": [
       "(array([8.297e+03, 2.500e+02, 8.000e+01, 3.400e+01, 1.500e+01, 9.000e+00,\n",
       "        3.000e+00, 1.000e+00, 1.000e+00, 3.000e+00]),\n",
       " array([    0. ,  2981.3,  5962.6,  8943.9, 11925.2, 14906.5, 17887.8,\n",
       "        20869.1, 23850.4, 26831.7, 29813. ]),\n",
       " <BarContainer object of 10 artists>)"
      ]
     },
     "execution_count": 19,
     "metadata": {},
     "output_type": "execute_result"
    },
    {
     "data": {
      "image/png": "[encoded data removed]",
      "text/plain": [
       "<Figure size 432x288 with 1 Axes>"
      ]
     },
     "metadata": {
      "needs_background": "light"
     },
     "output_type": "display_data"
    }
   ],
   "source": [
    "plt.hist(X[\"FoodCourt\"])"
   ]
  },
  {
   "cell_type": "code",
   "execution_count": 20,
   "id": "1b9812b7",
   "metadata": {
    "execution": {
     "iopub.execute_input": "2022-12-29T05:43:13.631021Z",
     "iopub.status.busy": "2022-12-29T05:43:13.630434Z",
     "iopub.status.idle": "2022-12-29T05:43:13.810404Z",
     "shell.execute_reply": "2022-12-29T05:43:13.809005Z"
    },
    "papermill": {
     "duration": 0.200392,
     "end_time": "2022-12-29T05:43:13.813313",
     "exception": false,
     "start_time": "2022-12-29T05:43:13.612921",
     "status": "completed"
    },
    "tags": []
   },
   "outputs": [
    {
     "data": {
      "text/plain": [
       "(array([8.609e+03, 6.200e+01, 1.300e+01, 5.000e+00, 2.000e+00, 1.000e+00,\n",
       "        0.000e+00, 0.000e+00, 0.000e+00, 1.000e+00]),\n",
       " array([    0. ,  2349.2,  4698.4,  7047.6,  9396.8, 11746. , 14095.2,\n",
       "        16444.4, 18793.6, 21142.8, 23492. ]),\n",
       " <BarContainer object of 10 artists>)"
      ]
     },
     "execution_count": 20,
     "metadata": {},
     "output_type": "execute_result"
    },
    {
     "data": {
      "image/png": "[encoded data removed]",
      "text/plain": [
       "<Figure size 432x288 with 1 Axes>"
      ]
     },
     "metadata": {
      "needs_background": "light"
     },
     "output_type": "display_data"
    }
   ],
   "source": [
    "plt.hist(X[\"ShoppingMall\"])"
   ]
  },
  {
   "cell_type": "code",
   "execution_count": 21,
   "id": "dd0bd0a2",
   "metadata": {
    "execution": {
     "iopub.execute_input": "2022-12-29T05:43:13.847389Z",
     "iopub.status.busy": "2022-12-29T05:43:13.846297Z",
     "iopub.status.idle": "2022-12-29T05:43:14.054979Z",
     "shell.execute_reply": "2022-12-29T05:43:14.053388Z"
    },
    "papermill": {
     "duration": 0.23028,
     "end_time": "2022-12-29T05:43:14.059133",
     "exception": false,
     "start_time": "2022-12-29T05:43:13.828853",
     "status": "completed"
    },
    "tags": []
   },
   "outputs": [
    {
     "data": {
      "text/plain": [
       "(array([8.387e+03, 1.800e+02, 7.300e+01, 2.200e+01, 1.500e+01, 6.000e+00,\n",
       "        6.000e+00, 2.000e+00, 1.000e+00, 1.000e+00]),\n",
       " array([    0. ,  2240.8,  4481.6,  6722.4,  8963.2, 11204. , 13444.8,\n",
       "        15685.6, 17926.4, 20167.2, 22408. ]),\n",
       " <BarContainer object of 10 artists>)"
      ]
     },
     "execution_count": 21,
     "metadata": {},
     "output_type": "execute_result"
    },
    {
     "data": {
      "image/png": "[encoded data removed]",
      "text/plain": [
       "<Figure size 432x288 with 1 Axes>"
      ]
     },
     "metadata": {
      "needs_background": "light"
     },
     "output_type": "display_data"
    }
   ],
   "source": [
    "plt.hist(X[\"Spa\"])"
   ]
  },
  {
   "cell_type": "markdown",
   "id": "0b11f534",
   "metadata": {
    "papermill": {
     "duration": 0.016788,
     "end_time": "2022-12-29T05:43:14.092881",
     "exception": false,
     "start_time": "2022-12-29T05:43:14.076093",
     "status": "completed"
    },
    "tags": []
   },
   "source": [
    "Age will be the only data w/ a Gaussian distribution(since we encoded the rest, we cannot expect a Gaussian distribution in that regard), so we should experiment w/ using both normalization and standardization"
   ]
  },
  {
   "cell_type": "code",
   "execution_count": 22,
   "id": "ac402332",
   "metadata": {
    "execution": {
     "iopub.execute_input": "2022-12-29T05:43:14.129699Z",
     "iopub.status.busy": "2022-12-29T05:43:14.128618Z",
     "iopub.status.idle": "2022-12-29T05:43:14.166351Z",
     "shell.execute_reply": "2022-12-29T05:43:14.165020Z"
    },
    "papermill": {
     "duration": 0.059468,
     "end_time": "2022-12-29T05:43:14.169251",
     "exception": false,
     "start_time": "2022-12-29T05:43:14.109783",
     "status": "completed"
    },
    "tags": []
   },
   "outputs": [
    {
     "name": "stdout",
     "output_type": "stream",
     "text": [
      "     PassengerId   Age  RoomService  FoodCourt  ShoppingMall     Spa  VRDeck\n",
      "0        0001_01  39.0          0.0        0.0           0.0     0.0     0.0\n",
      "1        0002_01  24.0        109.0        9.0          25.0   549.0    44.0\n",
      "2        0003_01  58.0         43.0     3576.0           0.0  6715.0    49.0\n",
      "3        0003_02  33.0          0.0     1283.0         371.0  3329.0   193.0\n",
      "4        0004_01  16.0        303.0       70.0         151.0   565.0     2.0\n",
      "...          ...   ...          ...        ...           ...     ...     ...\n",
      "8688     9276_01  41.0          0.0     6819.0           0.0  1643.0    74.0\n",
      "8689     9278_01  18.0          0.0        0.0           0.0     0.0     0.0\n",
      "8690     9279_01  26.0          0.0        0.0        1872.0     1.0     0.0\n",
      "8691     9280_01  32.0          0.0     1049.0           0.0   353.0  3235.0\n",
      "8692     9280_02  44.0        126.0     4688.0           0.0     0.0    12.0\n",
      "\n",
      "[8693 rows x 7 columns]\n"
     ]
    }
   ],
   "source": [
    "print(X)\n",
    "from sklearn.preprocessing import StandardScaler\n",
    "stand = StandardScaler()\n",
    "X = stand.fit_transform(X)"
   ]
  },
  {
   "cell_type": "code",
   "execution_count": 23,
   "id": "419b1179",
   "metadata": {
    "execution": {
     "iopub.execute_input": "2022-12-29T05:43:14.204366Z",
     "iopub.status.busy": "2022-12-29T05:43:14.202793Z",
     "iopub.status.idle": "2022-12-29T05:43:14.212995Z",
     "shell.execute_reply": "2022-12-29T05:43:14.211621Z"
    },
    "papermill": {
     "duration": 0.030245,
     "end_time": "2022-12-29T05:43:14.215808",
     "exception": false,
     "start_time": "2022-12-29T05:43:14.185563",
     "status": "completed"
    },
    "tags": []
   },
   "outputs": [
    {
     "data": {
      "text/plain": [
       "array([0, 1, 0, ..., 1, 0, 1])"
      ]
     },
     "execution_count": 23,
     "metadata": {},
     "output_type": "execute_result"
    }
   ],
   "source": [
    "from sklearn.preprocessing import LabelEncoder \n",
    "labele = LabelEncoder()\n",
    "y = labele.fit_transform(y)\n",
    "y"
   ]
  },
  {
   "cell_type": "code",
   "execution_count": 24,
   "id": "c9768021",
   "metadata": {
    "execution": {
     "iopub.execute_input": "2022-12-29T05:43:14.249169Z",
     "iopub.status.busy": "2022-12-29T05:43:14.248102Z",
     "iopub.status.idle": "2022-12-29T05:43:14.321578Z",
     "shell.execute_reply": "2022-12-29T05:43:14.319991Z"
    },
    "papermill": {
     "duration": 0.09392,
     "end_time": "2022-12-29T05:43:14.325087",
     "exception": false,
     "start_time": "2022-12-29T05:43:14.231167",
     "status": "completed"
    },
    "tags": []
   },
   "outputs": [],
   "source": [
    "from sklearn.model_selection import train_test_split\n",
    "X_train, X_test, y_train, y_test = train_test_split(X, y, test_size = 0.2, random_state = 42)"
   ]
  },
  {
   "cell_type": "markdown",
   "id": "86683bcf",
   "metadata": {
    "papermill": {
     "duration": 0.015095,
     "end_time": "2022-12-29T05:43:14.355586",
     "exception": false,
     "start_time": "2022-12-29T05:43:14.340491",
     "status": "completed"
    },
    "tags": []
   },
   "source": [
    "Test diff regression models which are good for binary classif:\n",
    "- Logistic Regression\n",
    "- Naive Bayes\n",
    "- KNN\n",
    "- Random Forest Classifier\n",
    "- LGBM\n",
    "- XGB\n",
    "- Cat Classifier"
   ]
  },
  {
   "cell_type": "code",
   "execution_count": 25,
   "id": "8828faa3",
   "metadata": {
    "execution": {
     "iopub.execute_input": "2022-12-29T05:43:14.390057Z",
     "iopub.status.busy": "2022-12-29T05:43:14.388865Z",
     "iopub.status.idle": "2022-12-29T05:43:16.075492Z",
     "shell.execute_reply": "2022-12-29T05:43:16.074001Z"
    },
    "papermill": {
     "duration": 1.707478,
     "end_time": "2022-12-29T05:43:16.079254",
     "exception": false,
     "start_time": "2022-12-29T05:43:14.371776",
     "status": "completed"
    },
    "tags": []
   },
   "outputs": [
    {
     "data": {
      "text/html": [
       "<style type='text/css'>\n",
       ".datatable table.frame { margin-bottom: 0; }\n",
       ".datatable table.frame thead { border-bottom: none; }\n",
       ".datatable table.frame tr.coltypes td {  color: #FFFFFF;  line-height: 6px;  padding: 0 0.5em;}\n",
       ".datatable .bool    { background: #DDDD99; }\n",
       ".datatable .object  { background: #565656; }\n",
       ".datatable .int     { background: #5D9E5D; }\n",
       ".datatable .float   { background: #4040CC; }\n",
       ".datatable .str     { background: #CC4040; }\n",
       ".datatable .time    { background: #40CC40; }\n",
       ".datatable .row_index {  background: var(--jp-border-color3);  border-right: 1px solid var(--jp-border-color0);  color: var(--jp-ui-font-color3);  font-size: 9px;}\n",
       ".datatable .frame tbody td { text-align: left; }\n",
       ".datatable .frame tr.coltypes .row_index {  background: var(--jp-border-color0);}\n",
       ".datatable th:nth-child(2) { padding-left: 12px; }\n",
       ".datatable .hellipsis {  color: var(--jp-cell-editor-border-color);}\n",
       ".datatable .vellipsis {  background: var(--jp-layout-color0);  color: var(--jp-cell-editor-border-color);}\n",
       ".datatable .na {  color: var(--jp-cell-editor-border-color);  font-size: 80%;}\n",
       ".datatable .sp {  opacity: 0.25;}\n",
       ".datatable .footer { font-size: 9px; }\n",
       ".datatable .frame_dimensions {  background: var(--jp-border-color3);  border-top: 1px solid var(--jp-border-color0);  color: var(--jp-ui-font-color3);  display: inline-block;  opacity: 0.6;  padding: 1px 10px 1px 5px;}\n",
       ".datatable .frame thead tr.colnames {  background-image: url('data:image/png;base64,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');  background-repeat: repeat-x;  background-size: 14px;  height: 28px;}\n",
       "</style>\n"
      ],
      "text/plain": [
       "<IPython.core.display.HTML object>"
      ]
     },
     "metadata": {},
     "output_type": "display_data"
    }
   ],
   "source": [
    "from catboost import CatBoostClassifier\n",
    "from lightgbm import LGBMClassifier\n",
    "from sklearn.linear_model import LogisticRegression\n",
    "from sklearn.ensemble import RandomForestClassifier, GradientBoostingClassifier\n",
    "from xgboost import XGBClassifier\n",
    "from sklearn.metrics import accuracy_score\n",
    "from sklearn.neighbors import KNeighborsClassifier\n",
    "\n",
    "classifs = {\n",
    "    'LGBM Classif': LGBMClassifier(n_jobs=-1),\n",
    "    'Log Reg': LogisticRegression(n_jobs=-1),\n",
    "    'XGB': XGBClassifier(n_estimators=500,learning_rate=.01,max_depth=5,eval_metric='auc'),\n",
    "    'RandomForestClassif': RandomForestClassifier(n_estimators=500,max_depth=9,max_features=.2,max_samples=.4,n_jobs=-1),\n",
    "    'Cat Classif': CatBoostClassifier(verbose=0), \n",
    "    'KNN': KNeighborsClassifier(n_jobs=-1),\n",
    "    'GB Classif': GradientBoostingClassifier()\n",
    "}"
   ]
  },
  {
   "cell_type": "code",
   "execution_count": 26,
   "id": "df2ab9bc",
   "metadata": {
    "execution": {
     "iopub.execute_input": "2022-12-29T05:43:16.114024Z",
     "iopub.status.busy": "2022-12-29T05:43:16.113517Z",
     "iopub.status.idle": "2022-12-29T05:45:17.579605Z",
     "shell.execute_reply": "2022-12-29T05:45:17.578400Z"
    },
    "papermill": {
     "duration": 121.487056,
     "end_time": "2022-12-29T05:45:17.582750",
     "exception": false,
     "start_time": "2022-12-29T05:43:16.095694",
     "status": "completed"
    },
    "tags": []
   },
   "outputs": [
    {
     "name": "stdout",
     "output_type": "stream",
     "text": [
      "LGBMClassifier()\n",
      "LogisticRegression(n_jobs=-1)\n",
      "XGBClassifier(base_score=None, booster=None, callbacks=None,\n",
      "              colsample_bylevel=None, colsample_bynode=None,\n",
      "              colsample_bytree=None, early_stopping_rounds=None,\n",
      "              enable_categorical=False, eval_metric='auc', gamma=None,\n",
      "              gpu_id=None, grow_policy=None, importance_type=None,\n",
      "              interaction_constraints=None, learning_rate=0.01, max_bin=None,\n",
      "              max_cat_to_onehot=None, max_delta_step=None, max_depth=5,\n",
      "              max_leaves=None, min_child_weight=None, missing=nan,\n",
      "              monotone_constraints=None, n_estimators=500, n_jobs=None,\n",
      "              num_parallel_tree=None, predictor=None, random_state=None,\n",
      "              reg_alpha=None, reg_lambda=None, ...)\n",
      "RandomForestClassifier(max_depth=9, max_features=0.2, max_samples=0.4,\n",
      "                       n_estimators=500, n_jobs=-1)\n",
      "<catboost.core.CatBoostClassifier object at 0x7f9df7595750>\n",
      "KNeighborsClassifier(n_jobs=-1)\n",
      "GradientBoostingClassifier()\n"
     ]
    }
   ],
   "source": [
    "model_train = {}\n",
    "model_test = {}\n",
    "model_val = {}\n",
    "k = 10\n",
    "\n",
    "for c in classifs:\n",
    "    print(classifs[c])\n",
    "    train = []\n",
    "    test = []\n",
    "    val = []\n",
    "    for i in range(k):\n",
    "        X_tr, X_v, y_tr, y_v = train_test_split(X_train, y_train, test_size = 0.1)\n",
    "        classifs[c].fit(X_tr, y_tr)\n",
    "        train.append(accuracy_score(y_tr, classifs[c].predict(X_tr)))\n",
    "        test.append(accuracy_score(y_test, classifs[c].predict(X_test)))\n",
    "        val.append(accuracy_score(y_v, classifs[c].predict(X_v)))\n",
    "                     \n",
    "    model_train.update({c: train})\n",
    "    model_test.update({c : test})\n",
    "    model_val.update({c : val})"
   ]
  },
  {
   "cell_type": "code",
   "execution_count": 27,
   "id": "4b11b4bb",
   "metadata": {
    "execution": {
     "iopub.execute_input": "2022-12-29T05:45:17.617077Z",
     "iopub.status.busy": "2022-12-29T05:45:17.615929Z",
     "iopub.status.idle": "2022-12-29T05:45:17.628018Z",
     "shell.execute_reply": "2022-12-29T05:45:17.626620Z"
    },
    "papermill": {
     "duration": 0.032759,
     "end_time": "2022-12-29T05:45:17.631111",
     "exception": false,
     "start_time": "2022-12-29T05:45:17.598352",
     "status": "completed"
    },
    "tags": []
   },
   "outputs": [
    {
     "name": "stdout",
     "output_type": "stream",
     "text": [
      "Model\t\t\tTrain Acc\t\tVal Acc\t\t\tTest Acc\n",
      "LGBM Classif        \t0.8583413231064236\t0.7895114942528736\t0.778838412880966\n",
      "Log Reg             \t0.7759188239054012\t0.7715517241379309\t0.767625071880391\n",
      "XGB                 \t0.8162192393736019\t0.7882183908045978\t0.7838412880966072\n",
      "RandomForestClassif \t0.8279482262703739\t0.7935344827586207\t0.7820011500862565\n",
      "Cat Classif         \t0.8399648449984018\t0.7909482758620691\t0.7791259344450833\n",
      "KNN                 \t0.8209012464046023\t0.7577586206896552\t0.7344450833812537\n",
      "GB Classif          \t0.8104346436561203\t0.8007183908045977\t0.781943645773433\n"
     ]
    }
   ],
   "source": [
    "print(\"Model\\t\\t\\tTrain Acc\\t\\tVal Acc\\t\\t\\tTest Acc\")\n",
    "for i in range(len(model_train)):\n",
    "    model = list(model_train.keys())[i].ljust(20, \" \")\n",
    "    train = sum(list(model_train.values())[i])/len(list(model_train.values())[i])\n",
    "    val = sum(list(model_val.values())[i])/len(list(model_val.values())[i])\n",
    "    test = sum(list(model_test.values())[i])/len(list(model_test.values())[i])\n",
    "    print(f\"{model}\\t{train}\\t{val}\\t{test}\")\n"
   ]
  },
  {
   "cell_type": "code",
   "execution_count": 28,
   "id": "6455650d",
   "metadata": {
    "execution": {
     "iopub.execute_input": "2022-12-29T05:45:17.665686Z",
     "iopub.status.busy": "2022-12-29T05:45:17.665284Z",
     "iopub.status.idle": "2022-12-29T05:45:28.567708Z",
     "shell.execute_reply": "2022-12-29T05:45:28.566312Z"
    },
    "papermill": {
     "duration": 10.923457,
     "end_time": "2022-12-29T05:45:28.570984",
     "exception": false,
     "start_time": "2022-12-29T05:45:17.647527",
     "status": "completed"
    },
    "tags": []
   },
   "outputs": [
    {
     "data": {
      "text/plain": [
       "(0.857204486626402, 0.7780333525014376)"
      ]
     },
     "execution_count": 28,
     "metadata": {},
     "output_type": "execute_result"
    }
   ],
   "source": [
    "gb=GradientBoostingClassifier(subsample= 0.75,n_estimators= 1250,max_features= 0.5,max_depth= 6,loss='exponential',learning_rate= 0.01).fit(\n",
    "    X_train,y_train)\n",
    "accuracy_score(y_train, gb.predict(X_train)), accuracy_score(y_test, gb.predict(X_test))"
   ]
  },
  {
   "cell_type": "code",
   "execution_count": 29,
   "id": "7ecf7cea",
   "metadata": {
    "execution": {
     "iopub.execute_input": "2022-12-29T05:45:28.608327Z",
     "iopub.status.busy": "2022-12-29T05:45:28.606884Z",
     "iopub.status.idle": "2022-12-29T05:45:28.656291Z",
     "shell.execute_reply": "2022-12-29T05:45:28.654724Z"
    },
    "papermill": {
     "duration": 0.070934,
     "end_time": "2022-12-29T05:45:28.659419",
     "exception": false,
     "start_time": "2022-12-29T05:45:28.588485",
     "status": "completed"
    },
    "tags": []
   },
   "outputs": [],
   "source": [
    "test = pd.read_csv(\"/kaggle/input/spaceship-titanic/test.csv\")\n",
    "test.replace({True:1,False:0},inplace=True)"
   ]
  },
  {
   "cell_type": "code",
   "execution_count": 30,
   "id": "6f98049d",
   "metadata": {
    "execution": {
     "iopub.execute_input": "2022-12-29T05:45:28.694727Z",
     "iopub.status.busy": "2022-12-29T05:45:28.693814Z",
     "iopub.status.idle": "2022-12-29T05:45:28.744866Z",
     "shell.execute_reply": "2022-12-29T05:45:28.743278Z"
    },
    "papermill": {
     "duration": 0.071922,
     "end_time": "2022-12-29T05:45:28.747895",
     "exception": false,
     "start_time": "2022-12-29T05:45:28.675973",
     "status": "completed"
    },
    "tags": []
   },
   "outputs": [],
   "source": [
    "test = test.drop(axis = 1, labels=[\"Cabin\", \"Name\"])\n",
    "test.isna().sum()\n",
    "\n",
    "for index in nancols:\n",
    "    #print(test[index].median())\n",
    "    test[index] = test[index].fillna(test[index].median(), inplace=False)\n",
    "\n",
    "test[\"HomePlanet\"].fillna(test[\"HomePlanet\"].mode().values[0], inplace=True)\n",
    "test[\"CryoSleep\"].fillna(test[\"CryoSleep\"].mode().values[0], inplace=True)\n",
    "test[\"Destination\"].fillna(test[\"Destination\"].mode().values[0], inplace=True)\n",
    "test[\"VIP\"].fillna(test[\"VIP\"].mode().values[0], inplace=True)\n",
    "\n",
    "ohe = OneHotEncoder(handle_unknown=\"ignore\")\n",
    "encoded_cols = ohe.fit_transform(test[[\"HomePlanet\",\"CryoSleep\",\"Destination\",\"VIP\"]])\n",
    "encoded_df = pd.DataFrame(encoded_cols.toarray(), columns=ohe.get_feature_names_out())\n",
    "test = test.drop(columns=[\"HomePlanet\", 'CryoSleep', \"Destination\", \"VIP\"], axis=1)\n",
    "pd.concat([test, encoded_df], axis=1)\n",
    "\n",
    "pred = stand.fit_transform(test)\n",
    "test = np.array(test)"
   ]
  },
  {
   "cell_type": "code",
   "execution_count": 31,
   "id": "00a6827e",
   "metadata": {
    "execution": {
     "iopub.execute_input": "2022-12-29T05:45:28.783520Z",
     "iopub.status.busy": "2022-12-29T05:45:28.782397Z",
     "iopub.status.idle": "2022-12-29T05:45:28.927186Z",
     "shell.execute_reply": "2022-12-29T05:45:28.925657Z"
    },
    "papermill": {
     "duration": 0.165673,
     "end_time": "2022-12-29T05:45:28.929794",
     "exception": false,
     "start_time": "2022-12-29T05:45:28.764121",
     "status": "completed"
    },
    "tags": []
   },
   "outputs": [
    {
     "data": {
      "text/html": [
       "<div>\n",
       "<style scoped>\n",
       "    .dataframe tbody tr th:only-of-type {\n",
       "        vertical-align: middle;\n",
       "    }\n",
       "\n",
       "    .dataframe tbody tr th {\n",
       "        vertical-align: top;\n",
       "    }\n",
       "\n",
       "    .dataframe thead th {\n",
       "        text-align: right;\n",
       "    }\n",
       "</style>\n",
       "<table border=\"1\" class=\"dataframe\">\n",
       "  <thead>\n",
       "    <tr style=\"text-align: right;\">\n",
       "      <th></th>\n",
       "      <th>PassengerId</th>\n",
       "      <th>Transported</th>\n",
       "    </tr>\n",
       "  </thead>\n",
       "  <tbody>\n",
       "    <tr>\n",
       "      <th>0</th>\n",
       "      <td>0013_01</td>\n",
       "      <td>False</td>\n",
       "    </tr>\n",
       "    <tr>\n",
       "      <th>1</th>\n",
       "      <td>0018_01</td>\n",
       "      <td>False</td>\n",
       "    </tr>\n",
       "    <tr>\n",
       "      <th>2</th>\n",
       "      <td>0019_01</td>\n",
       "      <td>False</td>\n",
       "    </tr>\n",
       "    <tr>\n",
       "      <th>3</th>\n",
       "      <td>0021_01</td>\n",
       "      <td>False</td>\n",
       "    </tr>\n",
       "    <tr>\n",
       "      <th>4</th>\n",
       "      <td>0023_01</td>\n",
       "      <td>True</td>\n",
       "    </tr>\n",
       "  </tbody>\n",
       "</table>\n",
       "</div>"
      ],
      "text/plain": [
       "  PassengerId  Transported\n",
       "0     0013_01        False\n",
       "1     0018_01        False\n",
       "2     0019_01        False\n",
       "3     0021_01        False\n",
       "4     0023_01         True"
      ]
     },
     "execution_count": 31,
     "metadata": {},
     "output_type": "execute_result"
    }
   ],
   "source": [
    "submit = pd.read_csv(\"/kaggle/input/spaceship-titanic/sample_submission.csv\")\n",
    "submit.Transported = gb.predict(test)\n",
    "submit.Transported=submit.Transported.apply(lambda x: True if x==1 else False)\n",
    "submit.head()"
   ]
  },
  {
   "cell_type": "code",
   "execution_count": 32,
   "id": "68b0c1f6",
   "metadata": {
    "execution": {
     "iopub.execute_input": "2022-12-29T05:45:28.966212Z",
     "iopub.status.busy": "2022-12-29T05:45:28.965689Z",
     "iopub.status.idle": "2022-12-29T05:45:28.975063Z",
     "shell.execute_reply": "2022-12-29T05:45:28.973720Z"
    },
    "papermill": {
     "duration": 0.03083,
     "end_time": "2022-12-29T05:45:28.977804",
     "exception": false,
     "start_time": "2022-12-29T05:45:28.946974",
     "status": "completed"
    },
    "tags": []
   },
   "outputs": [],
   "source": [
    "submit.Transported=submit.Transported.apply(lambda x: True if x==1 else False)"
   ]
  },
  {
   "cell_type": "code",
   "execution_count": 33,
   "id": "5863ec83",
   "metadata": {
    "execution": {
     "iopub.execute_input": "2022-12-29T05:45:29.012516Z",
     "iopub.status.busy": "2022-12-29T05:45:29.012050Z",
     "iopub.status.idle": "2022-12-29T05:45:29.028342Z",
     "shell.execute_reply": "2022-12-29T05:45:29.026876Z"
    },
    "papermill": {
     "duration": 0.037211,
     "end_time": "2022-12-29T05:45:29.031382",
     "exception": false,
     "start_time": "2022-12-29T05:45:28.994171",
     "status": "completed"
    },
    "tags": []
   },
   "outputs": [],
   "source": [
    "submit.to_csv('/kaggle/working/submission.csv', index=False)"
   ]
  },
  {
   "cell_type": "code",
   "execution_count": null,
   "id": "50c006d3",
   "metadata": {
    "papermill": {
     "duration": 0.016239,
     "end_time": "2022-12-29T05:45:29.064372",
     "exception": false,
     "start_time": "2022-12-29T05:45:29.048133",
     "status": "completed"
    },
    "tags": []
   },
   "outputs": [],
   "source": []
  }
 ],
 "metadata": {
  "kernelspec": {
   "display_name": "Python 3",
   "language": "python",
   "name": "python3"
  },
  "language_info": {
   "codemirror_mode": {
    "name": "ipython",
    "version": 3
   },
   "file_extension": ".py",
   "mimetype": "text/x-python",
   "name": "python",
   "nbconvert_exporter": "python",
   "pygments_lexer": "ipython3",
   "version": "3.7.12"
  },
  "papermill": {
   "default_parameters": {},
   "duration": 151.594505,
   "end_time": "2022-12-29T05:45:31.705735",
   "environment_variables": {},
   "exception": null,
   "input_path": "__notebook__.ipynb",
   "output_path": "__notebook__.ipynb",
   "parameters": {},
   "start_time": "2022-12-29T05:43:00.111230",
   "version": "2.3.4"
  }
 },
 "nbformat": 4,
 "nbformat_minor": 5
}
